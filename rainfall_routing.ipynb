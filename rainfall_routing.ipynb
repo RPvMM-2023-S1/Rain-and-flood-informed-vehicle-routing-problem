{
  "cells": [
    {
      "cell_type": "markdown",
      "source": [
        "# Introduction"
      ],
      "metadata": {
        "id": "1gz2Ie6ExwHS"
      }
    },
    {
      "cell_type": "markdown",
      "source": [
        "In this notebook, we implement a method for finding routes between two points of a city that minimizes the duration of the route and the amount of rain to which a vehicle is exposed.\n",
        "\n",
        "This notebook consists of 3 auxiliary classes (`Agora`, `Grafo` and `Radar`), 3 auxiliary functions (`convert_coordinates`, `oracle` and `is_flooded`), the main class (`Experiment`), and an example.  We describe each one of those below."
      ],
      "metadata": {
        "id": "13EIswNRXifN"
      }
    },
    {
      "cell_type": "markdown",
      "metadata": {
        "id": "QOfwryNw7XW_"
      },
      "source": [
        "## Libraries and packages\n",
        "\n",
        "To begin, we will install and import all the libraries and packages that will be used throughout the notebook.\n"
      ]
    },
    {
      "cell_type": "code",
      "execution_count": null,
      "metadata": {
        "id": "b8Qa8c5LTtym"
      },
      "outputs": [],
      "source": [
        "# Installing all the requirements\n",
        "\n",
        "!pip install attrs\n",
        "!pip install certifi\n",
        "!pip install charset-normalizer\n",
        "!pip install click\n",
        "!pip install click-plugins\n",
        "!pip install cligj\n",
        "!pip install Fiona\n",
        "!pip install geographiclib\n",
        "!pip install geopandas\n",
        "!pip install geopy\n",
        "!pip install idna\n",
        "!pip install importlib-metadata\n",
        "!pip install networkx\n",
        "!pip install numpy\n",
        "!pip install osmnx\n",
        "!pip install packaging\n",
        "!pip install pandas\n",
        "!pip install pyproj\n",
        "!pip install python-dateutil\n",
        "!pip install pytz\n",
        "!pip install requests\n",
        "!pip install scipy\n",
        "!pip install shapely\n",
        "!pip install six\n",
        "!pip install tzdata\n",
        "!pip install urllib3\n",
        "!pip install zipp\n"
      ]
    },
    {
      "cell_type": "code",
      "execution_count": null,
      "metadata": {
        "id": "dENUXuiy7W6g"
      },
      "outputs": [],
      "source": [
        "# Importing all the libraries and packages that will be used\n",
        "\n",
        "import copy\n",
        "import networkx as nx\n",
        "import numpy as np\n",
        "import osmnx as ox\n",
        "import pandas as pd\n",
        "import pyproj\n",
        "import requests\n",
        "import shutil\n",
        "import os\n",
        "\n",
        "from geopy import distance\n",
        "from shapely.geometry import Point\n"
      ]
    },
    {
      "cell_type": "markdown",
      "source": [
        "# Auxiliary classes and functions\n",
        "\n",
        "In this section, we will define 3 auxiliary classes and 3 auxiliary functions.  They will all be used in the main class (`Experiment`) and in the example (below)."
      ],
      "metadata": {
        "id": "hzzkK891bGHW"
      }
    },
    {
      "cell_type": "markdown",
      "source": [
        "## Agora\n",
        "\n",
        "The `Agora` class represents a time-like object. It provides methods to initialize a specific date and time, step forward in time, and retrieve flooding points at the current time. To create an instance of the `Agora` class, one needs to provide year, month, day, hour (24-hour clock format), minute, and second (optional) information. Once initialized, you can access and manipulate the date and time values."
      ],
      "metadata": {
        "id": "fT278yrpnfSO"
      }
    },
    {
      "cell_type": "code",
      "execution_count": null,
      "metadata": {
        "id": "72ZOKIIMA6Hp"
      },
      "outputs": [],
      "source": [
        "class Agora:\n",
        "\n",
        "    def __init__ (self, year, month, day, hour, minute, second=0):\n",
        "        \"\"\"\n",
        "        Initializes a time-like object with the specified date and time.\n",
        "\n",
        "        :param year (int): Year.\n",
        "        :param month (int): Month.\n",
        "        :param day (int): Day.\n",
        "        :param hour (int): Hour.\n",
        "        :param minute (int): Minute.\n",
        "        :param second (int): Second (default: 0).\n",
        "        \"\"\"\n",
        "\n",
        "        self.year = year\n",
        "        self.month = month\n",
        "        self.day = day\n",
        "        self.hour = hour\n",
        "        self.minute = minute\n",
        "        self.second = second\n",
        "\n",
        "    def __repr__( self):\n",
        "        \"\"\"\n",
        "        Returns a string representation of the time in the format\n",
        "        'YYYYMMDDHHMM'.\n",
        "        \"\"\"\n",
        "\n",
        "        return f\"{self.year:04d}{self.month:02d}{self.day:02d}{self.hour:02d}{self.minute:02d}\"\n",
        "\n",
        "    def step (self, integer):\n",
        "        \"\"\"\n",
        "        Adds a specified number of seconds ('integer') to the current time.\n",
        "\n",
        "        :param integer (int): Number of seconds to add.\n",
        "        \"\"\"\n",
        "\n",
        "        total_seconds = self.second + integer\n",
        "\n",
        "        # Update the seconds, minutes, and hours accordingly\n",
        "        self.second = total_seconds % 60\n",
        "        total_minutes = (total_seconds - self.second) // 60 + self.minute\n",
        "\n",
        "        self.minute = total_minutes % 60\n",
        "        total_hours = (total_minutes - self.minute) // 60 + self.hour\n",
        "\n",
        "        self.hour = total_hours % 24\n",
        "\n",
        "        # Update the day if necessary\n",
        "        self.day += (total_hours - self.hour) // 24\n",
        "\n",
        "    def get_flooding_points (self, url='https://github.com/liviatomas/floods_saopaulo/raw/main/1_input/e_Floods_2019.xlsx'):\n",
        "        \"\"\"\n",
        "        Returns a list of flooding points at the current time.\n",
        "\n",
        "        :param url (str): URL of the Excel file containing flooding data\n",
        "            (default: 'https://github.com/liviatomas/floods_saopaulo/raw/main/1_input/e_Floods_2019.xlsx')\n",
        "\n",
        "        :return flooding_points (list): List of flooding points. Each point is\n",
        "            represented as a tuple (x, y) of coordinates.\n",
        "        \"\"\"\n",
        "\n",
        "        # Formatting the date and time\n",
        "        date = f\"{self.year:04d}-{self.month:02d}-{self.day:02d}\"\n",
        "        start_time = f\"{self.hour:02d}:{self.minute:02d}:{self.second:02d}\"\n",
        "\n",
        "        # Downloading the Excel file containing flooding data\n",
        "        flood_df = pd.read_excel(url)\n",
        "\n",
        "        # Filtering the data based on the current time\n",
        "        my_floods = flood_df.loc[(flood_df['DATE'] == date) & (flood_df['START_T'] < start_time) & (flood_df['END_T'] > start_time)]\n",
        "\n",
        "        # Extracting the coordinates\n",
        "        flooding_points = my_floods[['X', 'Y']].values.tolist()\n",
        "\n",
        "        # Converting coordinates\n",
        "        flooding_points = [convert_coordinates(x, y) for x, y in flooding_points]\n",
        "\n",
        "        return flooding_points\n"
      ]
    },
    {
      "cell_type": "markdown",
      "metadata": {
        "id": "t8nOiX3a_P9n"
      },
      "source": [
        "## Grafo\n",
        "\n",
        "The `Grafo` class represents a road network graph based on geographical data obtained from OpenStreetMap. Its methods allow one to find the nearest node from geographic coordinates, crop the graph based on the fastest path between two nodes, and find an edge that links two specific nodes.  In order to initialize an instance of the `Grafo` class, one needs latitude and longitude boundary information of the area that one wants to study (for instance, a city or a neighborhood)."
      ]
    },
    {
      "cell_type": "code",
      "source": [
        "class Grafo:\n",
        "\n",
        "    def __init__ (self, lat0, latoo, lon0, lonoo):\n",
        "        \"\"\"\n",
        "        Initializes a graph object with latitude and longitude boundaries.\n",
        "        Downloads and processes the graph data from OpenStreetMap within the\n",
        "        specified boundaries.\n",
        "\n",
        "        :param lat0 (float): Minimum latitude boundary.\n",
        "        :param latoo (float): Maximum latitude boundary.\n",
        "        :param lon0 (float): Minimum longitude boundary.\n",
        "        :param lonoo (float): Maximum longitude boundary.\n",
        "        \"\"\"\n",
        "\n",
        "        self.lat0 = lat0\n",
        "        self.latoo = latoo\n",
        "        self.lon0 = lon0\n",
        "        self.lonoo = lonoo\n",
        "\n",
        "        # Download and process the graph data within the specified boundaries\n",
        "        self.graph = ox.graph_from_bbox(lat0, latoo, lon0, lonoo, network_type='drive')\n",
        "        self.graph = ox.add_edge_speeds(self.graph)\n",
        "        self.graph = ox.add_edge_travel_times(self.graph)\n",
        "        self.graph = ox.distance.add_edge_lengths(self.graph)\n",
        "\n",
        "    def get_nearest_node (self, lat, lon):\n",
        "        \"\"\"\n",
        "        Finds the nearest node in the graph to the given latitude and\n",
        "        longitude coordinates.\n",
        "\n",
        "        :param lat (float): Latitude coordinate.\n",
        "        :param lon (float): Longitude coordinate.\n",
        "\n",
        "        :return node (int): Nearest node ID.\n",
        "        \"\"\"\n",
        "\n",
        "        # Project the graph to enable us to use the nearest_nodes method\n",
        "        graph_proj = ox.project_graph(self.graph)\n",
        "\n",
        "        # Project the coordinates of the given point\n",
        "        coords = [(lon, lat)]\n",
        "        point = ox.projection.project_geometry(Point(coords))[0]\n",
        "        x, y = point.x, point.y\n",
        "\n",
        "        # Find the nearest node\n",
        "        node = ox.distance.nearest_nodes(graph_proj, x, y, return_dist=False)\n",
        "\n",
        "        return node\n",
        "\n",
        "    def crop (self, initial_point, final_point):\n",
        "        \"\"\"\n",
        "        Crops the graph based on the fastest path between two given nodes.\n",
        "\n",
        "        :param initial_point (int): ID of the initial node.\n",
        "        :param final_point (int): ID of the final node.\n",
        "\n",
        "        :return cropped_graph (networkx.MultiDiGraph): Cropped graph\n",
        "            containing only the nodes and edges around the fastest path.\n",
        "        \"\"\"\n",
        "\n",
        "        # Find the fastest path between the initial and final nodes\n",
        "        gmaps_path = nx.astar_path(self.graph, initial_point, final_point, weight='travel_time')\n",
        "\n",
        "        # Retrieve latitude and longitude coordinates of the nodes along the\n",
        "        # fastest path (aka Google Maps route)\n",
        "        lats = [self.graph.nodes[node]['y'] for node in gmaps_path]\n",
        "        lons = [self.graph.nodes[node]['x'] for node in gmaps_path]\n",
        "\n",
        "        # Determine a tight bounding box around the path\n",
        "        lat_min = min(lats)\n",
        "        lat_max = max(lats)\n",
        "        lon_min = min(lons)\n",
        "        lon_max = max(lons)\n",
        "\n",
        "        # Adjust the bounding box to ensure it contains the graph properly and\n",
        "        # falls within the initial boundaries\n",
        "        bbox_lat_min = max(self.lat0, lat_min - (lat_max - lat_min))\n",
        "        bbox_lat_max = min(self.latoo, lat_max + (lat_max - lat_min))\n",
        "        bbox_lon_min = max(self.lon0, lon_min - (lon_max - lon_min))\n",
        "        bbox_lon_max = min(self.lonoo, lon_max + (lon_max - lon_min))\n",
        "\n",
        "        # Crop the graph based on the adjusted bounding box\n",
        "        self.graph = ox.truncate.truncate_graph_bbox(self.graph, bbox_lat_max, bbox_lat_min, bbox_lon_max, bbox_lon_min)\n",
        "\n",
        "        return self.graph\n",
        "\n",
        "    def reset (self):\n",
        "        \"\"\"\n",
        "        Resets the graph to its original state, downloading and processing\n",
        "        the graph data again.\n",
        "\n",
        "        :return graph (networkx.MultiDiGraph): Reset graph.\n",
        "        \"\"\"\n",
        "\n",
        "        self.graph = ox.graph_from_bbox(lat0, latoo, lon0, lonoo, network_type='drive')\n",
        "        self.graph = ox.add_edge_speeds(self.graph)\n",
        "        self.graph = ox.add_edge_travel_times(self.graph)\n",
        "        self.graph = ox.distance.add_edge_lengths(self.graph)\n",
        "\n",
        "        return self.graph\n",
        "\n",
        "    def find_edge_by_nodes (self, node1, node2):\n",
        "        \"\"\"\n",
        "        Finds an edge in the graph that links node1 to node2.\n",
        "\n",
        "        :param node1 (int): Starting node ID.\n",
        "        :param node2 (int): Ending node ID.\n",
        "\n",
        "        :return None or edges[0] (None or tuple): Edge that links node1 to\n",
        "            node2.\n",
        "        \"\"\"\n",
        "\n",
        "        # Gather all the edges of the graph that start at node1 and end at node2,\n",
        "        # or start at node2 and end at node1\n",
        "        e1 = [e for e in self.graph.edges if e[0] == node1 and e[1] == node2]\n",
        "        e2 = [e for e in self.graph.edges if e[0] == node2 and e[1] == node1]\n",
        "        edges = [*e1, *e2]\n",
        "\n",
        "        # If no edges were found, then print a message and return None.\n",
        "        if len(edges) == 0:\n",
        "            print(f\"There are no edges linking {node1} to {node2} in graph.\")\n",
        "            return None\n",
        "\n",
        "        # Otherwise, return the first edge that was found.\n",
        "        else:\n",
        "            return edges[0]\n"
      ],
      "metadata": {
        "id": "whYz1cD1_zLM"
      },
      "execution_count": null,
      "outputs": []
    },
    {
      "cell_type": "markdown",
      "source": [
        "## Radar\n",
        "\n",
        "The `Radar` class represents a radar that provides information on precipitation. It allows one to retrieve rainfall data from a text file and calculate the maximum rainfall along a specific edge in a given graph.\n",
        "\n",
        "In order to initialize an instance of the `Radar` class, one needs the coordinates (latitude and longitude) of a reference point, the latitude- and longitude-deltas of the grid spacing of the data provided by a radar. Please note that the `Radar` class requires the `Agora` class for some of its functionalities."
      ],
      "metadata": {
        "id": "pNWd6yRppXsc"
      }
    },
    {
      "cell_type": "code",
      "source": [
        "class Radar:\n",
        "\n",
        "    def __init__ (self, lat0, lon0, dlat, dlon):\n",
        "        \"\"\"\n",
        "        Initializes a radar object with latitude and longitude information.\n",
        "        This class represents the radar that provides the information on\n",
        "        precipitation.\n",
        "\n",
        "        :param lat0 (float): Minimum latitude boundary.\n",
        "        :param lon0 (float): Minimum longitude boundary.\n",
        "        :param dlat (float): Spacing in the latitude grid.\n",
        "        :param dlon (float): Spacing in the longitude grid.\n",
        "        \"\"\"\n",
        "\n",
        "        self.lat0 = lat0\n",
        "        self.lon0 = lon0\n",
        "        self.dlat = dlat\n",
        "        self.dlon = dlon\n",
        "\n",
        "        self.source = \"https://raw.githubusercontent.com/RPvMM-2023-S1/Rain-and-flood-informed-vehicle-routing-problem/main/radar_data/R13537439_\"\n",
        "\n",
        "    def rain_by_time (self, agora):\n",
        "        \"\"\"\n",
        "        Reads rainfall data (mm) from a text file and returns it as a matrix.\n",
        "\n",
        "        :param agora (Agora): An instance of the Agora class that represents\n",
        "            the time.\n",
        "\n",
        "        :return A (list or None): Matrix of rainfall data. Each element\n",
        "            represents the rainfall in millimeters at a specific location. If\n",
        "            the data is not available, returns None.\n",
        "        \"\"\"\n",
        "\n",
        "        filename = self.source + repr(agora) + \".txt\"\n",
        "        radar_id = self.source.split(\"/\")[-1]\n",
        "        local_filename = os.path.join('radar_cache', radar_id + repr(agora) + \".txt\")\n",
        "\n",
        "        # Check if the 'radar_cache' folder exists and create it if necessary\n",
        "        if not os.path.isdir('radar_cache'):\n",
        "            os.mkdir('radar_cache')\n",
        "\n",
        "        # Check if the local file already exists\n",
        "        if os.path.isfile(local_filename):\n",
        "            # If the file exists, open it and read the data\n",
        "            with open(local_filename, 'r') as file:\n",
        "                    data = file.readlines()\n",
        "        else:\n",
        "            try:\n",
        "                # If the file doesn't exist locally, try to download it\n",
        "                response = requests.get(filename)\n",
        "\n",
        "                # Check if the download was successful (status code 200)\n",
        "                if response.status_code == 200:\n",
        "                    # Extract the text data from the response and split it\n",
        "                    # into lines\n",
        "                    data = response.text.splitlines()\n",
        "\n",
        "                    # Save the downloaded data to the local file\n",
        "                    with open(local_filename, 'w') as file:\n",
        "                            file.write('\\n'.join(data))\n",
        "                else:\n",
        "                    # If the file doesn't exist on the server, print an error\n",
        "                    # message\n",
        "                    print(f\"File {filename} does not exist.\")\n",
        "                    data = None\n",
        "\n",
        "            except FileNotFoundError:\n",
        "                # If there was an error with file handling, print an error\n",
        "                # message\n",
        "                print(f\"File {filename} does not exist.\")\n",
        "                data = None\n",
        "\n",
        "        # Data processing to create matrix A\n",
        "        if data:\n",
        "            # Create a matrix A by splitting each line and converting entries\n",
        "            # to integers.  If the entry is \"-99\", it is replaced with 0.\n",
        "            A = [[0 if entry == \"-99\" else int(entry) for entry in line.split()] for line in data]\n",
        "        else:\n",
        "            A = None\n",
        "\n",
        "        # Print the resulting matrix A\n",
        "        return A\n",
        "\n",
        "    def rain_at_edge (self, graph, edge, agora):\n",
        "        \"\"\"\n",
        "        Reads the rain data from a matrix and returns the maximum rainfall in\n",
        "        a given edge of a given graph.\n",
        "\n",
        "        :param graph (networkx.Graph): Graph object.\n",
        "        :param edge (tuple): Edge in the graph.\n",
        "        :param agora (Agora): An instance of the Agora class that represents\n",
        "            the time.\n",
        "\n",
        "        :return (int): Maximum rainfall on the edge.\n",
        "        \"\"\"\n",
        "\n",
        "        # Gather the coordinates of several points along the edge\n",
        "        if 'geometry' in graph.edges[edge]:\n",
        "            lonlats = list(graph.edges[edge]['geometry'].coords)\n",
        "        else:\n",
        "            lonlats = []\n",
        "\n",
        "        initial = edge[0]\n",
        "        lon, lat = graph.nodes[initial]['x'], graph.nodes[initial]['y']\n",
        "        lonlats.append((lon, lat))\n",
        "\n",
        "        final = edge[1]\n",
        "        lon, lat = graph.nodes[final]['x'], graph.nodes[final]['y']\n",
        "        lonlats.append((lon, lat))\n",
        "\n",
        "        # List the rows and columns of the points of the edge\n",
        "        rowcols = [(int((lat - self.lat0) / self.dlat), int((lon - self.lon0) / self.dlon)) for lon, lat in lonlats]\n",
        "\n",
        "        # List the mms of rain in the points of the edge\n",
        "        matrix = self.rain_by_time(agora)\n",
        "        rainfall = [matrix[row][col] for row, col in rowcols]\n",
        "\n",
        "        return max(rainfall)\n"
      ],
      "metadata": {
        "id": "t09dcL9Eipe1"
      },
      "execution_count": null,
      "outputs": []
    },
    {
      "cell_type": "markdown",
      "source": [
        "## Extra auxiliary functions\n",
        "\n",
        "These auxiliary functions can be used in conjunction with the `Agora`, `Grafo` and `Radar` classes to perform various operations, such as coordinate conversion, prediction of nodes in a path, and determination of flooded edges in a graph."
      ],
      "metadata": {
        "id": "5VMqrwfgqIET"
      }
    },
    {
      "cell_type": "markdown",
      "source": [
        "**convert_coordinates**\n",
        "\n",
        "This function converts coordinates from the EPSG 4326 system (latitude and longitude) to the usual UTM 23S system.  It is necesary in the method `get_flooding_points` of the class `Agora`."
      ],
      "metadata": {
        "id": "IXZw4aaCypi2"
      }
    },
    {
      "cell_type": "code",
      "execution_count": null,
      "metadata": {
        "id": "VWD9O4fWti7j"
      },
      "outputs": [],
      "source": [
        "def convert_coordinates (longitude, latitude):\n",
        "    \"\"\"\n",
        "    Converts coordinates from EPSG 4326 system to UTM 23S system.\n",
        "\n",
        "    :param longitude (float): Longitude coordinate.\n",
        "    :param latitude (float): Latitude coordinate.\n",
        "\n",
        "    :return (tuple): Converted coordinates in UTM 23S system.\n",
        "    \"\"\"\n",
        "\n",
        "    utm23s = pyproj.CRS.from_string('+proj=utm +zone=23 +south +ellps=WGS84 +datum=WGS84 +units=m +no_defs')\n",
        "    epsg4326 = pyproj.CRS.from_epsg(4326)\n",
        "    transformer = pyproj.Transformer.from_crs(utm23s, epsg4326)\n",
        "\n",
        "    return transformer.transform(longitude, latitude)\n"
      ]
    },
    {
      "cell_type": "markdown",
      "source": [
        "\n",
        "**oracle**\n",
        "\n",
        "The `oracle` function predicts before which node in a path a vehicle would be after a given time. In fact, it returns a tuple `(next_node, crossed_edges)` where `next_node` is the next node after the given time, and `crossed_edges` is a list of edges crossed on the way.  It will be used in the method `experiment` of the class `Experiment`."
      ],
      "metadata": {
        "id": "PoQpdVaPOlT-"
      }
    },
    {
      "cell_type": "code",
      "source": [
        "def oracle (grafo, path, initial_point, tyme):\n",
        "    \"\"\"\n",
        "    Predicts the node and crossed edges after a given time in a given path.\n",
        "\n",
        "    :param grafo (Grafo): An instance of the Grafo class in which the path is\n",
        "        contained.\n",
        "    :param path (list): A list of edges that representa a path in the grafo.\n",
        "    :param initial_point (int): ID of the initial point in the path.\n",
        "    :param tyme (int): Time in seconds.\n",
        "\n",
        "    :return next_node, crossed_edges (tuple): Next node after the given\n",
        "        time and a list of edges crossed on the way.\n",
        "    \"\"\"\n",
        "\n",
        "    # Find the initial point within the path\n",
        "    initial_indices = [i for i in range(len(path)) if path[i] == initial_point]\n",
        "\n",
        "    # If the initial point is not in the path, return the initial point and\n",
        "    # an empty list:\n",
        "    if len(initial_indices) == 0:\n",
        "        print(f\"The node {initial_point} is not in {path}.\")\n",
        "        return initial_point, []\n",
        "\n",
        "    # Otherwise, if the initial point is in the path, that is, if\n",
        "    # initial_indices != []:\n",
        "    else:\n",
        "        n = initial_indices[0]\n",
        "        next_node = initial_point\n",
        "        crossed_edges = []\n",
        "\n",
        "        # While there is: time left to cross the path and points in the path\n",
        "        # to be crossed\n",
        "        while tyme > 0 and n < len(path)-1:\n",
        "            current_node = path[n]\n",
        "            next_node = path[n+1]\n",
        "\n",
        "            # Find the edge in the graph\n",
        "            e = grafo.find_edge_by_nodes(current_node, next_node)\n",
        "            crossed_edges.append(e)\n",
        "\n",
        "            # Update the time left\n",
        "            tyme -= grafo.graph.edges[e]['travel_time']\n",
        "\n",
        "            # Update the index for the next step\n",
        "            n += 1\n",
        "\n",
        "        return next_node, crossed_edges\n"
      ],
      "metadata": {
        "id": "r4L1q5773MN0"
      },
      "execution_count": null,
      "outputs": []
    },
    {
      "cell_type": "markdown",
      "source": [
        "\n",
        "\n",
        "**is_flooded**\n",
        "\n",
        "The `is_flooded` function checks if a given edge of a graph is within 200 meters of a reported flooded point. Then, it returns `True` if the edge is near a flooded point and `False` otherwise.  It will be necessary in one of the weight functions that will be tested below."
      ],
      "metadata": {
        "id": "wCnsBUe_OpnG"
      }
    },
    {
      "cell_type": "code",
      "execution_count": null,
      "metadata": {
        "id": "I-bQdj_R_hmM"
      },
      "outputs": [],
      "source": [
        "def is_flooded (graph, edge, flooded_points):\n",
        "    \"\"\"\n",
        "    Checks if a given edge of a graph is within 200 meters of a reported\n",
        "    flooded point.\n",
        "\n",
        "    :param graph (networkx.Graph): Graph object.\n",
        "    :param edge (tuple): Edge in the graph.\n",
        "    :param flooded_points (list): List of flooded points.\n",
        "\n",
        "    :return tf (bool): True if edge is near a flooded point, False otherwise.\n",
        "    \"\"\"\n",
        "\n",
        "    # Gather the coordinates of several points along the edge\n",
        "    if 'geometry' in graph.edges[edge]:\n",
        "        lonlats = list(graph.edges[edge]['geometry'].coords)\n",
        "    else:\n",
        "        lonlats = []\n",
        "\n",
        "    initial = edge[0]\n",
        "    lon, lat = graph.nodes[initial]['x'], graph.nodes[initial]['y']\n",
        "    lonlats.append((lon, lat))\n",
        "\n",
        "    final = edge[1]\n",
        "    lon, lat = graph.nodes[final]['x'], graph.nodes[final]['y']\n",
        "    lonlats.append((lon, lat))\n",
        "\n",
        "    # List of (latitudes, longitudes) of the points of the edge\n",
        "    latlons = [(y, x) for x, y in lonlats]\n",
        "\n",
        "    # Determine whether any of the points of the edge are closer to 200 meters\n",
        "    # of any of the flooded points (tf = True) or not (tf = False)\n",
        "    tf = False\n",
        "    for p in latlons:\n",
        "        for q in flooded_points:\n",
        "            if distance.great_circle(p, q).meters < 200:\n",
        "                tf = True\n",
        "                break\n",
        "\n",
        "    return tf\n"
      ]
    },
    {
      "cell_type": "markdown",
      "metadata": {
        "id": "zidPpQb57wdK"
      },
      "source": [
        "# Experiment\n",
        "\n",
        "The `Experiment` class is the main class of this notebook.  It represents an experiment that calculates the optimal path minimizing a certain weight-function. In order to initialize it, one must provide the origin, destination, time (an instance of the `Agora` class), road network (an instance of the `Grafo` class), and information on precipitation (an instance of the `Radar` class).  Its methods can be used to perform experiments on the road network: calculate optimal paths (`experiment`) and analyze the results (`analysis`).\n"
      ]
    },
    {
      "cell_type": "code",
      "source": [
        "class Experiment:\n",
        "\n",
        "    def __init__ (self, origin, destination, agora, grafo, radar):\n",
        "        \"\"\"\n",
        "        Initializes an experiment object with the given parameters.\n",
        "\n",
        "        :param origin (tuple): The coordinates of the start location.\n",
        "        :param destination (tuple): The coordinates of the end location.\n",
        "        :param agora: An instace of the Agora class that represents the\n",
        "            initial time (time of departure of the vehicle).\n",
        "        :param grafo: An instace of the Grafo class that represents the road\n",
        "            network.\n",
        "        :param radar: An instance of the Radar class that represents the\n",
        "            radar that will provide information on precipitation.\n",
        "        \"\"\"\n",
        "\n",
        "        self.origin = grafo.get_nearest_node(*origin)\n",
        "        self.destination = grafo.get_nearest_node(*destination)\n",
        "        self.agora = agora\n",
        "        self.grafo = grafo\n",
        "        self.radar = radar\n",
        "\n",
        "    def experiment (self, weight):\n",
        "        \"\"\"\n",
        "        Calculates the path that minimizes a certain function (weight).\n",
        "\n",
        "        :param weight (function): The weight function used to calculate the\n",
        "            weights of edges in the graph.\n",
        "\n",
        "        :return edge_rains (dict): A dictionary containing the edges of the\n",
        "            optimal path and their corresponding rainfall values (at the time\n",
        "            of travel).\n",
        "        \"\"\"\n",
        "\n",
        "        # Parameters\n",
        "        start = copy.deepcopy(self.origin)\n",
        "        time = copy.deepcopy(self.agora)\n",
        "        graph = self.grafo.crop(self.origin, self.destination)\n",
        "\n",
        "        # Dicionary where we will save infomation about the path\n",
        "        edge_rains = {}\n",
        "\n",
        "        # Main loop\n",
        "        while start != self.destination:\n",
        "\n",
        "            # Update: list of fooded points, matrix with rain info and weigths\n",
        "            flooding_points = time.get_flooding_points()\n",
        "\n",
        "            if self.radar.rain_by_time(time):\n",
        "                A = self.radar.rain_by_time(time)\n",
        "                rains = {e: self.radar.rain_at_edge(graph, e, time) for e in graph.edges}\n",
        "                weights = {e: weight(graph, e, flooding_points, rains) for e in graph.edges}\n",
        "                nx.set_edge_attributes(graph, weights, 'weight')\n",
        "            else:\n",
        "                rains = {e: 0 for e in graph.edges}\n",
        "\n",
        "            # Calculate the path with the least rain\n",
        "            shortest_path = nx.astar_path(graph, start, self.destination, weight='weight')\n",
        "\n",
        "            # Add 10 minutes to the current time for the next iteration\n",
        "            time.step(600)\n",
        "\n",
        "            # Predict where the start of the next iteration will be\n",
        "            start, subpath = oracle(self.grafo, shortest_path, shortest_path[0], 600)\n",
        "\n",
        "            # Save the information of the edges that will be crossed\n",
        "            for e in subpath:\n",
        "                edge_rains[e] = rains[e]\n",
        "\n",
        "        return edge_rains\n",
        "\n",
        "    def analysis (self, dictionary):\n",
        "        \"\"\"\n",
        "        Prints the results of the output of an experiment.\n",
        "\n",
        "        :param dictionary (dict): A dictionary containing the edges of a path\n",
        "            and their corresponding rainfall values (output of an experiment).\n",
        "\n",
        "        :return (tuple): A tuple containing the total length, total time, and\n",
        "            rainfall per second along the path.\n",
        "        \"\"\"\n",
        "\n",
        "        # Lists the edges of the path\n",
        "        edge_path = list(dictionary.keys())\n",
        "\n",
        "        # Prints the total length of the path\n",
        "        edge_lengths = [self.grafo.graph.edges[e]['length'] for e in edge_path]\n",
        "        total_length = sum(edge_lengths) / 1000\n",
        "        print(f\"The total distance traveled was {total_length:.3f} km.\")\n",
        "\n",
        "        # Prints the total duration of the path\n",
        "        edge_times = [self.grafo.graph.edges[e]['travel_time'] for e in edge_path]\n",
        "        total_time = sum(edge_times)\n",
        "        print(f\"The travel time was {total_time // 60:.0f} minutes and {total_time % 60:.0f} seconds.\")\n",
        "\n",
        "        # Prints the amount of rain along the path\n",
        "        edge_rain_per_sec = [dictionary[e] * self.grafo.graph.edges[e]['travel_time'] for e in edge_path]\n",
        "        rain_per_sec = sum(edge_rain_per_sec)\n",
        "        print(f\"The rainfall along the path was: {rain_per_sec:.03f} mm.\")\n",
        "\n",
        "        return total_length, total_time, rain_per_sec\n"
      ],
      "metadata": {
        "id": "MbRDu-6NRJG3"
      },
      "execution_count": null,
      "outputs": []
    },
    {
      "cell_type": "markdown",
      "source": [
        "# Example\n",
        "\n",
        "Now, we will show an example of the use of the classes and functions defined above.\n",
        "\n",
        "We begin by fixing the boundary coordinates of the region that we want to study and the grid spacing of the radar.  In this case, it is a region within the metropolitan area of Sao Paulo and the grid spacing is given by Radar Sao Roque:"
      ],
      "metadata": {
        "id": "ExinJcyejjkE"
      }
    },
    {
      "cell_type": "code",
      "source": [
        "# Boudary coordinates and grid spacing\n",
        "\n",
        "lat0 = -23.7748\n",
        "latoo = -23.2959\n",
        "lon0 = -46.6807\n",
        "lonoo = -46.3841\n",
        "dlat = -0.0090014\n",
        "dlon = 0.009957\n"
      ],
      "metadata": {
        "id": "DhA7p57BkzJX"
      },
      "execution_count": null,
      "outputs": []
    },
    {
      "cell_type": "markdown",
      "source": [
        "Using the information above, we can instantiate a `Grafo` class and a `Radar` class:"
      ],
      "metadata": {
        "id": "mdzh7OwgrRVH"
      }
    },
    {
      "cell_type": "code",
      "source": [
        "# Instances of the Grafo and Radar classes\n",
        "\n",
        "sao_paulo = Grafo(lat0, latoo, lon0, lonoo)\n",
        "sao_roque = Radar(lat0, lon0, dlat, dlon)\n"
      ],
      "metadata": {
        "id": "kZGsws3arrat"
      },
      "execution_count": null,
      "outputs": []
    },
    {
      "cell_type": "markdown",
      "source": [
        "Next, we choose the origin, destination and initial time for our route:"
      ],
      "metadata": {
        "id": "Txi858_Mr_fS"
      }
    },
    {
      "cell_type": "code",
      "source": [
        "# Origin, destination and initial time information of the route\n",
        "\n",
        "origin = (-23.536718, -46.589832)    # Belenzinho, Sao Paulo 03015-000\n",
        "destination = (-23.531962, -46.653599)    # Theatro São Pedro, 01152-000\n",
        "agora = Agora(2019, 1, 4, 16, 40)    # 4:40pm on January 4th, 2019\n"
      ],
      "metadata": {
        "id": "WfjeRBTOsHSD"
      },
      "execution_count": null,
      "outputs": []
    },
    {
      "cell_type": "markdown",
      "source": [
        "Using the information above, we can instantiate an `Experiment`:"
      ],
      "metadata": {
        "id": "1em4Z1PjslY1"
      }
    },
    {
      "cell_type": "code",
      "source": [
        "# Instance of the Experiment class\n",
        "\n",
        "example = Experiment(origin, destination, agora, sao_paulo, sao_roque)\n"
      ],
      "metadata": {
        "id": "xO4w612rsqJS"
      },
      "execution_count": null,
      "outputs": []
    },
    {
      "cell_type": "markdown",
      "source": [
        "To finish the setup, we only need to define the weight function that our experiment should minimize:"
      ],
      "metadata": {
        "id": "Ox2RqJpTtGI8"
      }
    },
    {
      "cell_type": "code",
      "source": [
        "# Here are a few weight functions that can be used:\n",
        "\n",
        "## Only minimizes the total duration of the route\n",
        "def time_no_rain (graph, edge, flooded_points, rains):\n",
        "    return graph.edges[edge]['travel_time']\n",
        "\n",
        "## Only minimizes the total length of the route\n",
        "def length_no_rain (graph, edge, flooded_points, rains):\n",
        "    return graph.edges[edge]['length']\n",
        "\n",
        "## Minimizes the time, taking into account rain and flood\n",
        "def proposed (graph, edge, flooded_points, rains):\n",
        "    if is_flooded(graph, edge, flooded_points):\n",
        "        return float('inf')\n",
        "    else:\n",
        "        return graph.edges[edge]['travel_time'] * (1 + rains[edge]/100)\n"
      ],
      "metadata": {
        "id": "Y0wkXMYUtMW3"
      },
      "execution_count": null,
      "outputs": []
    },
    {
      "cell_type": "markdown",
      "source": [
        "Now that we have all these ingredients, we can run an `experiment` and its `analysis`:"
      ],
      "metadata": {
        "id": "voLSh1iyvv1t"
      }
    },
    {
      "cell_type": "code",
      "source": [
        "for f in [time_no_rain, length_no_rain, proposed]:\n",
        "    print(f.__name__)\n",
        "\n",
        "    # Run the experiment\n",
        "    edges_rains = example.experiment(f)\n",
        "\n",
        "    # Print the results\n",
        "    example.analysis(edges_rains)\n"
      ],
      "metadata": {
        "id": "nBofhdalv24x",
        "colab": {
          "base_uri": "https://localhost:8080/"
        },
        "outputId": "9d39c8be-ca2b-4b63-9acf-764bfc7d7840"
      },
      "execution_count": null,
      "outputs": [
        {
          "output_type": "stream",
          "name": "stdout",
          "text": [
            "time_no_rain\n",
            "The total distance traveled was 7.827 km.\n",
            "The travel time was 10 minutes and 30 seconds.\n",
            "The rainfall along the path was: 44.200 mm.\n",
            "length_no_rain\n",
            "The total distance traveled was 7.724 km.\n",
            "The travel time was 11 minutes and 7 seconds.\n",
            "The rainfall along the path was: 15.700 mm.\n",
            "proposed\n",
            "The total distance traveled was 8.039 km.\n",
            "The travel time was 10 minutes and 52 seconds.\n",
            "The rainfall along the path was: 0.000 mm.\n"
          ]
        }
      ]
    }
  ],
  "metadata": {
    "colab": {
      "provenance": []
    },
    "kernelspec": {
      "display_name": "Python 3 (ipykernel)",
      "language": "python",
      "name": "python3"
    },
    "language_info": {
      "codemirror_mode": {
        "name": "ipython",
        "version": 3
      },
      "file_extension": ".py",
      "mimetype": "text/x-python",
      "name": "python",
      "nbconvert_exporter": "python",
      "pygments_lexer": "ipython3",
      "version": "3.9.12"
    }
  },
  "nbformat": 4,
  "nbformat_minor": 0
}